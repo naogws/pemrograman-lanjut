{
 "cells": [
  {
   "cell_type": "markdown",
   "id": "cc564ab9",
   "metadata": {},
   "source": [
    "# Tugas Besar 2 Pemrograman Lanjut Python"
   ]
  },
  {
   "cell_type": "markdown",
   "id": "c285e8d3",
   "metadata": {},
   "source": [
    "## Deskripsi"
   ]
  },
  {
   "cell_type": "markdown",
   "id": "8cc472f8",
   "metadata": {},
   "source": [
    "\n",
    "Anda bekerja pada Perusahaan Software house yang sedang mengerjakan aplikasi perpustakaan yang berbasis microservice. Technical leader anda meminta Anda membuat class dari python. Buatlah class Bernama buku yang mewakili setiap buku di perpustakaan. Setiap buku memiliki atribut berikut:\n",
    "\n",
    "- Judul: berisi judul dari buku\n",
    "- Penulis: berisi nama penulis\n",
    "- Penerbit\n",
    "- Tahun terbit\n",
    "- Konten: Biasanya berisikan judul bab\n",
    "- Iktisar: merupakan intisari dari buku, yang berisikan gagasan buku yang ditulis dengan menggunakan Bahasa sendiri.\n",
    "\n",
    "Kelas buku harus mempunyai initializer yang dapat menerima judul buku, penulis dan konten buku sebagai argument. Nilai-nilai ini harus ditetapkan ke masing-masing atribut obyek.\n",
    "\n",
    "Kelas tersebut juga harus memiliki method seperti di bawah ini:\n",
    "\n",
    "- `read()`: method ini dapat mengambil nomor halaman, dan mencetak konten setiap halaman mulai dari dimulai sampai nomor halaman yang ditentukan tercapai\n",
    "- `__str__()`: method ini mengembalikan string yang menjelaskan buku ini dalam hal nama dan penulisnya. (Contoh: Mathematics for Machine Learning by Marc Peter Deisenroth).\n"
   ]
  },
  {
   "cell_type": "markdown",
   "id": "0fd76ae0",
   "metadata": {},
   "source": [
    "### Pertanyaan"
   ]
  },
  {
   "cell_type": "markdown",
   "id": "cecf0024",
   "metadata": {},
   "source": [
    "\n",
    "a. Buatlah kelas yang memuat semua atribut di atas.\n",
    "b. Buatlah tabel buku yang berisi ketiga atribut pada sistem basis data.\n",
    "c. Buatlah method get yang mengambil data dari basis data yang telah anda buat.\n",
    "d. Buatlah method post yang dapat menyimpan kelas buku.\n",
    "e. Buatlah logger dan httpexception.\n"
   ]
  },
  {
   "cell_type": "code",
   "id": "799d38a4",
   "metadata": {},
   "source": [
    "# Import library yang dibutuhkan\n",
    "!pip install fastapi uvicorn nest_asyncio pydantic mysql-connector-python\n",
    "\n",
    "import mysql.connector\n",
    "from fastapi import FastAPI, HTTPException\n",
    "import logging\n",
    "import uvicorn\n",
    "import nest_asyncio"
   ],
   "outputs": [],
   "execution_count": null
  },
  {
   "cell_type": "code",
   "id": "ea42153b",
   "metadata": {},
   "source": [
    "# Siapkan logger\n",
    "logging.basicConfig(level=logging.INFO)\n",
    "logger = logging.getLogger(__name__)\n"
   ],
   "outputs": [],
   "execution_count": null
  },
  {
   "cell_type": "code",
   "id": "af3eb812",
   "metadata": {},
   "source": [
    "# Konfigurasi database\n",
    "db_config = {\n",
    "    'user': 'root',\n",
    "    'password': '',\n",
    "    'host': 'localhost',\n",
    "    'port': '3306',\n",
    "    'database': 'perpustakaan'\n",
    "}\n"
   ],
   "outputs": [],
   "execution_count": null
  },
  {
   "cell_type": "code",
   "id": "045a4daf",
   "metadata": {},
   "source": [
    "from pydantic import BaseModel\n",
    "from typing import List\n",
    "\n",
    "# Class definition using Pydantic\n",
    "class Buku(BaseModel):\n",
    "    judul: str\n",
    "    penulis: str\n",
    "    konten: List[str]\n",
    "    penerbit: str = \"\"\n",
    "    tahun_terbit: str = \"\"\n",
    "    iktisar: str = \"\"\n",
    "\n",
    "    def read(self, halaman: int):\n",
    "        if halaman > len(self.konten):\n",
    "            halaman = len(self.konten)\n",
    "        return self.konten[:halaman]\n",
    "\n",
    "    def __str__(self):\n",
    "        return f\"{self.judul} by {self.penulis}\""
   ],
   "outputs": [],
   "execution_count": null
  },
  {
   "cell_type": "code",
   "id": "3061f172",
   "metadata": {},
   "source": [
    "# Operasi database\n",
    "def create_table():\n",
    "    conn = mysql.connector.connect(**db_config)\n",
    "    cursor = conn.cursor()\n",
    "    cursor.execute(\"\"\"\n",
    "    CREATE TABLE IF NOT EXISTS buku (\n",
    "        id INT AUTO_INCREMENT PRIMARY KEY,\n",
    "        judul VARCHAR(255),\n",
    "        penulis VARCHAR(255),\n",
    "        konten TEXT,\n",
    "        penerbit VARCHAR(255),\n",
    "        tahun_terbit VARCHAR(4),\n",
    "        iktisar TEXT\n",
    "    )\n",
    "    \"\"\")\n",
    "    conn.commit()\n",
    "    cursor.close()\n",
    "    conn.close()\n"
   ],
   "outputs": [],
   "execution_count": null
  },
  {
   "cell_type": "code",
   "id": "566d8b0a",
   "metadata": {},
   "source": [
    "# Fungsi penambahan buku\n",
    "def add_buku(buku):\n",
    "    conn = mysql.connector.connect(**db_config)\n",
    "    cursor = conn.cursor()\n",
    "    cursor.execute(\"\"\"\n",
    "    INSERT INTO buku (judul, penulis, konten, penerbit, tahun_terbit, iktisar)\n",
    "    VALUES (%s, %s, %s, %s, %s, %s)\n",
    "    \"\"\", (buku.judul, buku.penulis, \",\".join(buku.konten), buku.penerbit, buku.tahun_terbit, buku.iktisar))\n",
    "    conn.commit()\n",
    "    cursor.close()\n",
    "    conn.close()"
   ],
   "outputs": [],
   "execution_count": null
  },
  {
   "cell_type": "code",
   "id": "79cf9ccd",
   "metadata": {},
   "source": [
    "# Fungsi pengambilan buku\n",
    "def get_buku(judul):\n",
    "    conn = mysql.connector.connect(**db_config)\n",
    "    cursor = conn.cursor(dictionary=True)\n",
    "    cursor.execute(\"SELECT * FROM buku WHERE judul = %s\", (judul,))\n",
    "    result = cursor.fetchone()\n",
    "    cursor.close()\n",
    "    conn.close()\n",
    "    if result:\n",
    "        result['konten'] = result['konten'].split(',')\n",
    "    return result"
   ],
   "outputs": [],
   "execution_count": null
  },
  {
   "cell_type": "code",
   "id": "a620689f",
   "metadata": {},
   "source": [
    "# Aplikasi FastAPI\n",
    "app = FastAPI()\n",
    "\n",
    "@app.post(\"/buku/\")\n",
    "def create_buku(buku: Buku):\n",
    "    try:\n",
    "        add_buku(buku)\n",
    "        logger.info(f\"Buku '{buku.judul}' berhasil ditambahkan.\")\n",
    "        return {\"message\": \"Buku berhasil ditambahkan\"}\n",
    "    except Exception as e:\n",
    "        logger.error(f\"Error adding buku: {str(e)}\")\n",
    "        raise HTTPException(status_code=500, detail=\"Terjadi kesalahan saat menambahkan buku\")\n",
    "\n",
    "@app.get(\"/buku/{judul}\")\n",
    "def read_buku(judul: str):\n",
    "    try:\n",
    "        buku = get_buku(judul)\n",
    "        if buku:\n",
    "            return buku\n",
    "        else:\n",
    "            raise HTTPException(status_code=404, detail=\"Buku tidak ditemukan\")\n",
    "    except Exception as e:\n",
    "        logger.error(f\"Error reading buku: {str(e)}\")\n",
    "        raise HTTPException(status_code=500, detail=\"Terjadi kesalahan saat mengambil data buku\")\n"
   ],
   "outputs": [],
   "execution_count": null
  },
  {
   "cell_type": "code",
   "id": "cf68e6a1",
   "metadata": {},
   "source": [
    "# Buat table buku\n",
    "create_table()"
   ],
   "outputs": [],
   "execution_count": null
  },
  {
   "metadata": {},
   "cell_type": "code",
   "source": [
    "# Jalankan aplikasi FastAPI\n",
    "nest_asyncio.apply()\n",
    "uvicorn.run(app, host=\"0.0.0.0\", port=8000)"
   ],
   "id": "54852524e30d287b",
   "outputs": [],
   "execution_count": null
  }
 ],
 "metadata": {
  "kernelspec": {
   "name": "python3",
   "language": "python",
   "display_name": "Python 3 (ipykernel)"
  }
 },
 "nbformat": 4,
 "nbformat_minor": 5
}
